{
 "cells": [
  {
   "cell_type": "markdown",
   "metadata": {},
   "source": [
    "# 一、申明字符编码"
   ]
  },
  {
   "cell_type": "code",
   "execution_count": 2,
   "metadata": {},
   "outputs": [],
   "source": [
    "# -*- coding:encoding -*-"
   ]
  },
  {
   "cell_type": "markdown",
   "metadata": {},
   "source": [
    "# 二、代码折叠"
   ]
  },
  {
   "cell_type": "code",
   "execution_count": 3,
   "metadata": {},
   "outputs": [],
   "source": [
    "# region 代码折叠\n",
    "\n",
    "# endregion"
   ]
  },
  {
   "cell_type": "markdown",
   "metadata": {},
   "source": [
    "# 三、数学和字符串"
   ]
  },
  {
   "cell_type": "markdown",
   "metadata": {},
   "source": [
    "## （一）数学\n"
   ]
  },
  {
   "cell_type": "code",
   "execution_count": 17,
   "metadata": {},
   "outputs": [
    {
     "data": {
      "text/plain": [
       "25"
      ]
     },
     "execution_count": 17,
     "metadata": {},
     "output_type": "execute_result"
    }
   ],
   "source": [
    "17/3 # float division\n",
    "17//3 # floor division \n",
    "5 ** 2 # power"
   ]
  },
  {
   "cell_type": "markdown",
   "metadata": {},
   "source": [
    "\n",
    "\n",
    "'doesn\\'t' # 转义\n",
    "print('doesn\\'t') # print不加引号\n",
    "\n",
    "#r转义\n",
    "print('C:\\some\\name')\n",
    "print(r'C:\\some\\name')\n",
    "\n",
    "print(\"\"\"\\\n",
    "Usage: thingy [OPTIONS]\n",
    "     -h                        Display this usage message\n",
    "     -H hostname               Hostname to connect to\n",
    "\"\"\") # 三引号换行\n",
    "\n",
    "# 拼接\n",
    "'py''thon'\n",
    "text = ('Put several strings within parentheses '\n",
    "        'to have them joined together.')\n",
    "text\n",
    "\n",
    "# 索引\n",
    "word = 'Python'\n",
    "word[0]  # character in position 0\n",
    "word[5]  # character in position 5\n",
    "\n",
    "# 切片\n",
    "word[0:2]  # characters from position 0 (included) to 2 (excluded)\n",
    "\n",
    "# 字符串不能修改\n",
    "word[0] = 'J'\n",
    "\n",
    "# 字符串长度\n",
    "s = 'supercalifragilisticexpialidocious'\n",
    "len(s)"
   ]
  },
  {
   "cell_type": "markdown",
   "metadata": {},
   "source": [
    "print('C:\\some\\name')\n",
    "print(r'C:\\some\\name')\n",
    "\n",
    "print(\"\"\"\\\n",
    "Usage: thingy [OPTIONS]\n",
    "     -h                        Display this usage message\n",
    "     -H hostname               Hostname to connect to\n",
    "\"\"\") # 三引号换行\n",
    "\n",
    "# 拼接\n",
    "'py''thon'\n",
    "text = ('Put several strings within parentheses '\n",
    "        'to have them joined together.')\n",
    "text\n",
    "\n",
    "# 索引\n",
    "word = 'Python'\n",
    "word[0]  # character in position 0\n",
    "word[5]  # character in position 5\n",
    "\n",
    "# 切片\n",
    "word[0:2]  # characters from position 0 (included) to 2 (excluded)\n",
    "\n",
    "# 字符串不能修改\n",
    "word[0] = 'J'\n",
    "\n",
    "# 字符串长度\n",
    "s = 'supercalifragilisticexpialidocious'\n",
    "len(s)"
   ]
  },
  {
   "cell_type": "markdown",
   "metadata": {},
   "source": []
  }
 ],
 "metadata": {
  "kernelspec": {
   "display_name": "Python 3",
   "language": "python",
   "name": "python3"
  },
  "language_info": {
   "codemirror_mode": {
    "name": "ipython",
    "version": 3
   },
   "file_extension": ".py",
   "mimetype": "text/x-python",
   "name": "python",
   "nbconvert_exporter": "python",
   "pygments_lexer": "ipython3",
   "version": "3.12.4"
  }
 },
 "nbformat": 4,
 "nbformat_minor": 2
}
